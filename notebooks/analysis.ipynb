{
 "cells": [
  {
   "cell_type": "code",
   "execution_count": 1,
   "metadata": {},
   "outputs": [],
   "source": [
    "import pandas as pd\n",
    "from glob import glob\n",
    "import json\n",
    "import os"
   ]
  },
  {
   "cell_type": "code",
   "execution_count": 2,
   "metadata": {},
   "outputs": [],
   "source": [
    "def get_filelst(SAVE_PATH):\n",
    "    return list(set([i.replace(\"_0_shot.json\",\"\") for i in os.listdir(SAVE_PATH)]))\n",
    "\n",
    "# results/korean_origin_bench/20b/00_shot.json\n",
    "def _get_metric_name(v):\n",
    "    metrics = ['f1', 'macro_f1', 'acc_norm', 'acc']\n",
    "    for m in metrics:\n",
    "        if v.get(m):\n",
    "            return {\n",
    "                'metric': m,\n",
    "                'value': v[m],\n",
    "            }\n",
    "\n",
    "def get_df_klue(SAVE_PATH, model_name=''):\n",
    "    \n",
    "    data = []\n",
    "    for i in ['0', '5', '10', '50']:\n",
    "        shot = f'{SAVE_PATH}/{model_name}_{i}_shot.json'\n",
    "        try:\n",
    "\n",
    "            data.append(\n",
    "                {   \n",
    "                    # 'kobest_boolq (macro_f1)': 0.35461338879835325\n",
    "                    f\"{k} ({_get_metric_name(v)['metric']})\": _get_metric_name(v)['value']\n",
    "                    for k, v in json.load(open(shot))['results'].items()\n",
    "                }\n",
    "            )\n",
    "        except FileNotFoundError:\n",
    "            pass\n",
    "    df = pd.DataFrame(data, index=[model_name]).T\n",
    "    return df"
   ]
  },
  {
   "cell_type": "code",
   "execution_count": 5,
   "metadata": {},
   "outputs": [
    {
     "name": "stdout",
     "output_type": "stream",
     "text": [
      "(ours)_llama2_0.1_ALL_ver2\n",
      "(ours)_Synatra-Mixtral-8x7B-v0.1\n",
      "(ours)_Synatra-Mixtral-8x7B-v0.2\n",
      "(beomi)_llama_2_ko_7b\n",
      "(beomi)_open-llama-2-ko-7b\n",
      "(upstage)_SOLAR-10.7B-v1.0\n",
      "(beomi)_OPEN-SOLAR-KO-10.7B\n",
      "(mistralai)_Mistral-7B-v0.1\n",
      "(mistralai)_Mixtral-8x7B-v0.1\n",
      "(yanolja)_KoSOLAR-10.7B-v0.2\n",
      "(yanolja)_EEVE-Korean-10.8B-v1.0\n",
      "(yanolja)_EEVE-Korean-Instruct-10.8B-v1.0\n"
     ]
    }
   ],
   "source": [
    "SAVE_PATH = '../data/result'\n",
    "filelst = get_filelst(SAVE_PATH)\n",
    "preferred_order = {'(ours)_llama2_0.1_ALL_ver2': 1, \n",
    "                   '(ours)_Synatra-Mixtral-8x7B-v0.1': 2, \n",
    "                   '(ours)_Synatra-Mixtral-8x7B-v0.2': 3, \n",
    "                   '(beomi)_llama_2_ko_7b': 4,\n",
    "                   '(beomi)_open-llama-2-ko-7b': 5,\n",
    "                   '(upstage)_SOLAR-10.7B-v1.0': 6,\n",
    "                   '(beomi)_OPEN-SOLAR-KO-10.7B':7,\n",
    "                   '(mistralai)_Mistral-7B-v0.1':8,\n",
    "                   '(mistralai)_Mixtral-8x7B-v0.1': 9,\n",
    "                   '(yanolja)_KoSOLAR-10.7B-v0.2': 10,\n",
    "                   '(yanolja)_EEVE-Korean-10.8B-v1.0':11,\n",
    "                   '(yanolja)_EEVE-Korean-Instruct-10.8B-v1.0':12}\n",
    "ordered_list = sorted(filelst, key=lambda x: preferred_order[x])\n",
    "temp_df = []\n",
    "for file in ordered_list:\n",
    "    df = get_df_klue(SAVE_PATH,model_name=file)\n",
    "    temp_df.append(df)\n",
    "all_df = pd.concat(temp_df,axis=1).T.reset_index()\n",
    "all_df.rename(columns={\"index\":\"name\"},inplace=True)\n",
    "all_df.to_csv(\"data.csv\",index=False)"
   ]
  },
  {
   "cell_type": "code",
   "execution_count": 4,
   "metadata": {},
   "outputs": [
    {
     "data": {
      "application/vnd.jupyter.widget-view+json": {
       "model_id": "2849f69c1def4b66b47911272027d60c",
       "version_major": 2,
       "version_minor": 0
      },
      "text/plain": [
       "Box(children=(HTML(value='<div id=\"ifr-pyg-00061413260cb480hug1SX6yrTZwecv4\" style=\"height: auto\">\\n    <head>…"
      ]
     },
     "metadata": {},
     "output_type": "display_data"
    },
    {
     "data": {
      "text/html": [],
      "text/plain": [
       "<IPython.core.display.HTML object>"
      ]
     },
     "metadata": {},
     "output_type": "display_data"
    }
   ],
   "source": [
    "import pandas as pd\n",
    "import pygwalker as pyg\n",
    "df = pd.read_csv('./data.csv')\n",
    "walker = pyg.walk(df,hideDataSourceConfig=True, vegaTheme='vega')"
   ]
  },
  {
   "cell_type": "code",
   "execution_count": null,
   "metadata": {},
   "outputs": [],
   "source": []
  }
 ],
 "metadata": {
  "kernelspec": {
   "display_name": "Python 3",
   "language": "python",
   "name": "python3"
  },
  "language_info": {
   "codemirror_mode": {
    "name": "ipython",
    "version": 3
   },
   "file_extension": ".py",
   "mimetype": "text/x-python",
   "name": "python",
   "nbconvert_exporter": "python",
   "pygments_lexer": "ipython3",
   "version": "3.10.12"
  }
 },
 "nbformat": 4,
 "nbformat_minor": 2
}
