{
 "cells": [
  {
   "cell_type": "code",
   "execution_count": 12,
   "metadata": {},
   "outputs": [],
   "source": [
    "import pandas as pd\n",
    "from glob import glob\n",
    "import json\n",
    "import os"
   ]
  },
  {
   "cell_type": "code",
   "execution_count": 13,
   "metadata": {},
   "outputs": [],
   "source": [
    "def get_filelst(SAVE_PATH):\n",
    "    return list(set([i.replace(\"_0_shot.json\",\"\") for i in os.listdir(SAVE_PATH)]))\n",
    "\n",
    "# results/korean_origin_bench/20b/00_shot.json\n",
    "def _get_metric_name(v):\n",
    "    metrics = ['f1', 'macro_f1', 'acc_norm', 'acc']\n",
    "    for m in metrics:\n",
    "        if v.get(m):\n",
    "            return {\n",
    "                'metric': m,\n",
    "                'value': v[m],\n",
    "            }\n",
    "\n",
    "def get_df_klue(SAVE_PATH, model_name=''):\n",
    "    \n",
    "    data = []\n",
    "    for i in ['0', '5', '10', '50']:\n",
    "        shot = f'{SAVE_PATH}/{model_name}_{i}_shot.json'\n",
    "        try:\n",
    "\n",
    "            data.append(\n",
    "                {   \n",
    "                    # 'kobest_boolq (macro_f1)': 0.35461338879835325\n",
    "                    f\"{k} ({_get_metric_name(v)['metric']})\": _get_metric_name(v)['value']\n",
    "                    for k, v in json.load(open(shot))['results'].items()\n",
    "                }\n",
    "            )\n",
    "        except FileNotFoundError:\n",
    "            pass\n",
    "    df = pd.DataFrame(data, index=[model_name]).T\n",
    "    return df"
   ]
  },
  {
   "cell_type": "code",
   "execution_count": 14,
   "metadata": {},
   "outputs": [],
   "source": [
    "SAVE_PATH = '../data/result'\n",
    "filelst = get_filelst(SAVE_PATH)\n",
    "temp_df = []\n",
    "for file in filelst:\n",
    "    df = get_df_klue(SAVE_PATH,model_name=file)\n",
    "    temp_df.append(df)\n",
    "all_df = pd.concat(temp_df,axis=1).T.reset_index()\n",
    "all_df.rename(columns={\"index\":\"name\"},inplace=True)\n",
    "all_df.to_csv(\"data.csv\",index=False)"
   ]
  },
  {
   "cell_type": "code",
   "execution_count": 15,
   "metadata": {},
   "outputs": [
    {
     "data": {
      "application/vnd.jupyter.widget-view+json": {
       "model_id": "a181f79641c94ae38d6f2c1c2832aa98",
       "version_major": 2,
       "version_minor": 0
      },
      "text/plain": [
       "Box(children=(HTML(value='<div id=\"ifr-pyg-000614df02b540beWLVnYdGDrZyoqvAI\" style=\"height: auto\">\\n    <head>…"
      ]
     },
     "metadata": {},
     "output_type": "display_data"
    },
    {
     "data": {
      "text/html": [],
      "text/plain": [
       "<IPython.core.display.HTML object>"
      ]
     },
     "metadata": {},
     "output_type": "display_data"
    }
   ],
   "source": [
    "import pandas as pd\n",
    "import pygwalker as pyg\n",
    "df = pd.read_csv('./data.csv')\n",
    "walker = pyg.walk(df,hideDataSourceConfig=True, vegaTheme='vega')"
   ]
  },
  {
   "cell_type": "code",
   "execution_count": null,
   "metadata": {},
   "outputs": [],
   "source": []
  }
 ],
 "metadata": {
  "kernelspec": {
   "display_name": "Python 3",
   "language": "python",
   "name": "python3"
  },
  "language_info": {
   "codemirror_mode": {
    "name": "ipython",
    "version": 3
   },
   "file_extension": ".py",
   "mimetype": "text/x-python",
   "name": "python",
   "nbconvert_exporter": "python",
   "pygments_lexer": "ipython3",
   "version": "3.10.12"
  }
 },
 "nbformat": 4,
 "nbformat_minor": 2
}
