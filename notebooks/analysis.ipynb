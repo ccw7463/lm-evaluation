{
 "cells": [
  {
   "cell_type": "code",
   "execution_count": null,
   "metadata": {},
   "outputs": [],
   "source": [
    "import pandas as pd\n",
    "from glob import glob\n",
    "import json\n",
    "import os\n",
    "import re"
   ]
  },
  {
   "cell_type": "code",
   "execution_count": null,
   "metadata": {},
   "outputs": [],
   "source": [
    "def get_filelst(SAVE_PATH):\n",
    "    return list(set([i.replace(\"_0_shot.json\",\"\") for i in os.listdir(SAVE_PATH)]))\n",
    "\n",
    "# results/korean_origin_bench/20b/00_shot.json\n",
    "def _get_metric_name(v):\n",
    "    metrics = ['f1', 'macro_f1', 'acc_norm', 'acc']\n",
    "    for m in metrics:\n",
    "        if v.get(m):\n",
    "            return {\n",
    "                'metric': m,\n",
    "                'value': v[m],\n",
    "            }\n",
    "\n",
    "def get_df_klue(SAVE_PATH, model_name=''):\n",
    "    \n",
    "    data = []\n",
    "    for i in ['0', '5', '10', '50']:\n",
    "        shot = f'{SAVE_PATH}/{model_name}_{i}_shot.json'\n",
    "        try:\n",
    "\n",
    "            data.append(\n",
    "                {   \n",
    "                    # 'kobest_boolq (macro_f1)': 0.35461338879835325\n",
    "                    f\"{k} ({_get_metric_name(v)['metric']})\": _get_metric_name(v)['value']\n",
    "                    for k, v in json.load(open(shot))['results'].items()\n",
    "                }\n",
    "            )\n",
    "        except FileNotFoundError:\n",
    "            pass\n",
    "    df = pd.DataFrame(data, index=[model_name]).T\n",
    "    return df"
   ]
  },
  {
   "cell_type": "code",
   "execution_count": null,
   "metadata": {},
   "outputs": [],
   "source": [
    "SAVE_PATH = '../data/result'\n",
    "filelst = get_filelst(SAVE_PATH)\n",
    "print(\"file 개수 : \",len(filelst))\n",
    "temp_df = []\n",
    "for file in filelst:\n",
    "    if not re.match(\"^\\(ours\\)\",file):\n",
    "        continue\n",
    "    # if re.match(\"^\\(ccw7463\\)\",file):\n",
    "    #     continue\n",
    "    # if re.match(\"^\\(mistralai\\)\",file):\n",
    "    #     continue    \n",
    "    # if re.match(\"^\\(davidkim205\\)\",file):\n",
    "    #     continue   \n",
    "    # if re.match(\"^\\(hwkwon\\)\",file):\n",
    "    #     continue      \n",
    "    # if re.match(\".*EEVE-Korean-Instruct.*\",file):\n",
    "    #     continue       \n",
    "    # if re.match(\".*gemma*\",file):\n",
    "    #     continue\n",
    "    # if re.match(\".*open-llama*\",file):\n",
    "    #     continue        \n",
    "    df = get_df_klue(SAVE_PATH,model_name=file)\n",
    "    temp_df.append(df)\n",
    "print(\"일부 제거 후 file 개수 : \",len(temp_df))\n",
    "all_df = pd.concat(temp_df,axis=1).T.reset_index()\n",
    "all_df.rename(columns={\"index\":\"name\"},inplace=True)\n",
    "all_df.to_csv(\"data.csv\",index=False)"
   ]
  },
  {
   "cell_type": "code",
   "execution_count": null,
   "metadata": {},
   "outputs": [],
   "source": [
    "import pandas as pd\n",
    "import pygwalker as pyg\n",
    "df = pd.read_csv('./data.csv')\n",
    "walker = pyg.walk(df,hideDataSourceConfig=True, vegaTheme='vega')"
   ]
  },
  {
   "cell_type": "code",
   "execution_count": 15,
   "metadata": {},
   "outputs": [
    {
     "data": {
      "text/plain": [
       "DeltaGenerator()"
      ]
     },
     "execution_count": 15,
     "metadata": {},
     "output_type": "execute_result"
    }
   ],
   "source": [
    "import pygwalker as pyg\n",
    "import pandas as pd\n",
    "import streamlit.components.v1 as components\n",
    "import streamlit as st\n",
    " \n",
    "# Adjust the width of the Streamlit page\n",
    "st.set_page_config(\n",
    "    page_title=\"Use Pygwalker In Streamlit\",\n",
    "    layout=\"wide\"\n",
    ")\n",
    " \n",
    "# Add Title\n",
    "st.title(\"Use Pygwalker In Streamlit\")\n",
    " \n",
    "# Import your data\n",
    "df = pd.read_csv(\"https://kanaries-app.s3.ap-northeast-1.amazonaws.com/public-datasets/bike_sharing_dc.csv\")\n",
    " \n",
    "# Paste the copied Pygwalker chart code here\n",
    "vis_spec = \"\"\"<PASTE_COPIED_CODE_HERE>\"\"\"\n",
    " \n",
    "# Generate the HTML using Pygwalker\n",
    "pyg_html = pyg.to_html(df, spec=vis_spec)\n",
    " \n",
    "# Embed the HTML into the Streamlit app\n",
    "components.html(pyg_html, height=1000, scrolling=True)"
   ]
  }
 ],
 "metadata": {
  "kernelspec": {
   "display_name": "Python 3",
   "language": "python",
   "name": "python3"
  },
  "language_info": {
   "codemirror_mode": {
    "name": "ipython",
    "version": 3
   },
   "file_extension": ".py",
   "mimetype": "text/x-python",
   "name": "python",
   "nbconvert_exporter": "python",
   "pygments_lexer": "ipython3",
   "version": "3.10.12"
  }
 },
 "nbformat": 4,
 "nbformat_minor": 2
}
