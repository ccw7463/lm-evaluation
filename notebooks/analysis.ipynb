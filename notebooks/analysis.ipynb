{
 "cells": [
  {
   "cell_type": "code",
   "execution_count": 12,
   "metadata": {},
   "outputs": [],
   "source": [
    "import pandas as pd\n",
    "import json\n",
    "import os"
   ]
  },
  {
   "cell_type": "code",
   "execution_count": 38,
   "metadata": {},
   "outputs": [],
   "source": [
    "DATA_PATH = '../data/result'\n",
    "\n",
    "def get_filelst(SAVE_PATH):\n",
    "    return list(set([i.replace(\"_0_shot.json\",\"\") for i in os.listdir(SAVE_PATH)]))\n",
    "\n",
    "def get_metric_name(v):\n",
    "    metrics = ['f1', 'macro_f1', 'acc_norm', 'acc']\n",
    "    for m in metrics:\n",
    "        if v.get(m):\n",
    "            return {\n",
    "                'metric': m,\n",
    "                'value': v[m],\n",
    "            }\n",
    "\n",
    "def get_df_klue(DATA_PATH, model_name=''):\n",
    "    data = []\n",
    "    shot = os.path.join(DATA_PATH,model_name+\"_0_shot.json\")\n",
    "    data.append(\n",
    "        {   \n",
    "            f\"{k} ({get_metric_name(v)['metric']})\": get_metric_name(v)['value']\n",
    "            for k, v in json.load(open(shot))['results'].items()\n",
    "        }\n",
    "    )\n",
    "    df = pd.DataFrame(data, index=[model_name]).T\n",
    "    return df"
   ]
  },
  {
   "cell_type": "code",
   "execution_count": 39,
   "metadata": {},
   "outputs": [],
   "source": [
    "df = []\n",
    "namelst = get_filelst(DATA_PATH)\n",
    "for name in namelst:  \n",
    "    df.append(get_df_klue(DATA_PATH,\n",
    "                          model_name=name))\n",
    "all_df = pd.concat(df,axis=1).T.reset_index()\n",
    "all_df.rename(columns={\"index\":\"name\"},inplace=True)\n",
    "all_df.to_csv(\"data.csv\",index=False)"
   ]
  },
  {
   "cell_type": "code",
   "execution_count": 41,
   "metadata": {},
   "outputs": [
    {
     "name": "stderr",
     "output_type": "stream",
     "text": [
      "WARNING: parse invoke code failed, This may affect feature of export code.\n"
     ]
    },
    {
     "data": {
      "application/vnd.jupyter.widget-view+json": {
       "model_id": "ad24812c3b86496eaa864d77b0c06f51",
       "version_major": 2,
       "version_minor": 0
      },
      "text/plain": [
       "Box(children=(HTML(value='<div id=\"ifr-pyg-000621e975bf4da2am1FrL4gtyCDklIE\" style=\"height: auto\">\\n    <head>…"
      ]
     },
     "metadata": {},
     "output_type": "display_data"
    },
    {
     "data": {
      "text/html": [],
      "text/plain": [
       "<IPython.core.display.HTML object>"
      ]
     },
     "metadata": {},
     "output_type": "display_data"
    }
   ],
   "source": [
    "import pygwalker as pyg\n",
    "df = pd.read_csv('./data.csv')\n",
    "walker = pyg.walk(df,hideDataSourceConfig=True, vegaTheme='vega')"
   ]
  }
 ],
 "metadata": {
  "kernelspec": {
   "display_name": "Python 3",
   "language": "python",
   "name": "python3"
  },
  "language_info": {
   "codemirror_mode": {
    "name": "ipython",
    "version": 3
   },
   "file_extension": ".py",
   "mimetype": "text/x-python",
   "name": "python",
   "nbconvert_exporter": "python",
   "pygments_lexer": "ipython3",
   "version": "3.10.12"
  }
 },
 "nbformat": 4,
 "nbformat_minor": 2
}
