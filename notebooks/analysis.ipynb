{
 "cells": [
  {
   "cell_type": "code",
   "execution_count": 1,
   "metadata": {},
   "outputs": [],
   "source": [
    "import pandas as pd\n",
    "from glob import glob\n",
    "import json\n",
    "import os"
   ]
  },
  {
   "cell_type": "code",
   "execution_count": 53,
   "metadata": {},
   "outputs": [],
   "source": [
    "def get_filelst(SAVE_PATH):\n",
    "    return list(set([i.replace(\"_0_shot.json\",\"\") for i in os.listdir(SAVE_PATH)]))\n",
    "\n",
    "# results/korean_origin_bench/20b/00_shot.json\n",
    "def _get_metric_name(v):\n",
    "    metrics = ['f1', 'macro_f1', 'acc_norm', 'acc']\n",
    "    for m in metrics:\n",
    "        if v.get(m):\n",
    "            return {\n",
    "                'metric': m,\n",
    "                'value': v[m],\n",
    "            }\n",
    "\n",
    "def get_df_klue(SAVE_PATH, model_name=''):\n",
    "    \n",
    "    data = []\n",
    "    for i in ['0', '5', '10', '50']:\n",
    "        shot = f'{SAVE_PATH}/{model_name}_{i}_shot.json'\n",
    "        print(shot)\n",
    "        try:\n",
    "            data.append(\n",
    "                {\n",
    "                    f\"{k} ({_get_metric_name(v)['metric']})\": _get_metric_name(v)['value']\n",
    "                    for k, v in json.load(open(shot))['results'].items()\n",
    "                }\n",
    "            )\n",
    "        except FileNotFoundError:\n",
    "            pass\n",
    "    df = pd.DataFrame(data, index=[0, 5, 10, 50][:len(data)]).T\n",
    "    print(data)\n",
    "    # print(df.to_markdown())\n",
    "    return df"
   ]
  },
  {
   "cell_type": "code",
   "execution_count": 54,
   "metadata": {},
   "outputs": [
    {
     "name": "stdout",
     "output_type": "stream",
     "text": [
      "../data/result/aipart_chatjob_sft_from_Synatra-Mixtral-8x7B-v0.1_0_shot.json\n",
      "../data/result/aipart_chatjob_sft_from_Synatra-Mixtral-8x7B-v0.1_5_shot.json\n",
      "../data/result/aipart_chatjob_sft_from_Synatra-Mixtral-8x7B-v0.1_10_shot.json\n",
      "../data/result/aipart_chatjob_sft_from_Synatra-Mixtral-8x7B-v0.1_50_shot.json\n",
      "[{'kobest_boolq (macro_f1)': 0.35461338879835325, 'kobest_copa (macro_f1)': 0.6577316616227121, 'kobest_hellaswag (macro_f1)': 0.4491881401493295, 'kobest_sentineg (macro_f1)': 0.5252590348936292, 'kohatespeech (macro_f1)': 0.4770029338749717, 'kohatespeech_apeach (macro_f1)': 0.33851558894747785, 'kohatespeech_gen_bias (macro_f1)': 0.12453531598513011, 'korunsmile (f1)': 0.30648331029034165, 'nsmc (acc)': 0.56638, 'pawsx_ko (acc)': 0.539}]\n"
     ]
    }
   ],
   "source": [
    "SAVE_PATH = '../data/result'\n",
    "filelst = get_filelst(SAVE_PATH)\n",
    "df = get_df_klue(SAVE_PATH,model_name=filelst[0])"
   ]
  },
  {
   "cell_type": "code",
   "execution_count": 55,
   "metadata": {},
   "outputs": [
    {
     "data": {
      "text/html": [
       "<div>\n",
       "<style scoped>\n",
       "    .dataframe tbody tr th:only-of-type {\n",
       "        vertical-align: middle;\n",
       "    }\n",
       "\n",
       "    .dataframe tbody tr th {\n",
       "        vertical-align: top;\n",
       "    }\n",
       "\n",
       "    .dataframe thead th {\n",
       "        text-align: right;\n",
       "    }\n",
       "</style>\n",
       "<table border=\"1\" class=\"dataframe\">\n",
       "  <thead>\n",
       "    <tr style=\"text-align: right;\">\n",
       "      <th></th>\n",
       "      <th>0</th>\n",
       "    </tr>\n",
       "  </thead>\n",
       "  <tbody>\n",
       "    <tr>\n",
       "      <th>kobest_boolq (macro_f1)</th>\n",
       "      <td>0.354613</td>\n",
       "    </tr>\n",
       "    <tr>\n",
       "      <th>kobest_copa (macro_f1)</th>\n",
       "      <td>0.657732</td>\n",
       "    </tr>\n",
       "    <tr>\n",
       "      <th>kobest_hellaswag (macro_f1)</th>\n",
       "      <td>0.449188</td>\n",
       "    </tr>\n",
       "    <tr>\n",
       "      <th>kobest_sentineg (macro_f1)</th>\n",
       "      <td>0.525259</td>\n",
       "    </tr>\n",
       "    <tr>\n",
       "      <th>kohatespeech (macro_f1)</th>\n",
       "      <td>0.477003</td>\n",
       "    </tr>\n",
       "    <tr>\n",
       "      <th>kohatespeech_apeach (macro_f1)</th>\n",
       "      <td>0.338516</td>\n",
       "    </tr>\n",
       "    <tr>\n",
       "      <th>kohatespeech_gen_bias (macro_f1)</th>\n",
       "      <td>0.124535</td>\n",
       "    </tr>\n",
       "    <tr>\n",
       "      <th>korunsmile (f1)</th>\n",
       "      <td>0.306483</td>\n",
       "    </tr>\n",
       "    <tr>\n",
       "      <th>nsmc (acc)</th>\n",
       "      <td>0.566380</td>\n",
       "    </tr>\n",
       "    <tr>\n",
       "      <th>pawsx_ko (acc)</th>\n",
       "      <td>0.539000</td>\n",
       "    </tr>\n",
       "  </tbody>\n",
       "</table>\n",
       "</div>"
      ],
      "text/plain": [
       "                                         0\n",
       "kobest_boolq (macro_f1)           0.354613\n",
       "kobest_copa (macro_f1)            0.657732\n",
       "kobest_hellaswag (macro_f1)       0.449188\n",
       "kobest_sentineg (macro_f1)        0.525259\n",
       "kohatespeech (macro_f1)           0.477003\n",
       "kohatespeech_apeach (macro_f1)    0.338516\n",
       "kohatespeech_gen_bias (macro_f1)  0.124535\n",
       "korunsmile (f1)                   0.306483\n",
       "nsmc (acc)                        0.566380\n",
       "pawsx_ko (acc)                    0.539000"
      ]
     },
     "execution_count": 55,
     "metadata": {},
     "output_type": "execute_result"
    }
   ],
   "source": [
    "df"
   ]
  }
 ],
 "metadata": {
  "kernelspec": {
   "display_name": "Python 3",
   "language": "python",
   "name": "python3"
  },
  "language_info": {
   "codemirror_mode": {
    "name": "ipython",
    "version": 3
   },
   "file_extension": ".py",
   "mimetype": "text/x-python",
   "name": "python",
   "nbconvert_exporter": "python",
   "pygments_lexer": "ipython3",
   "version": "3.10.12"
  }
 },
 "nbformat": 4,
 "nbformat_minor": 2
}
